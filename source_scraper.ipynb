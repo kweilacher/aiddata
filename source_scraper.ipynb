{
 "cells": [
  {
   "cell_type": "markdown",
   "metadata": {},
   "source": [
    "# AidData Source Saver Bot"
   ]
  },
  {
   "cell_type": "markdown",
   "metadata": {},
   "source": [
    "## Import Lines"
   ]
  },
  {
   "cell_type": "code",
   "execution_count": 2,
   "metadata": {},
   "outputs": [],
   "source": [
    "import requests\n",
    "from bs4 import BeautifulSoup\n",
    "import pandas as pd\n",
    "import re\n",
    "import webbrowser\n",
    "import mechanize\n",
    "import time\n",
    "import validators"
   ]
  },
  {
   "cell_type": "markdown",
   "metadata": {},
   "source": [
    "## The Bot\n",
    "#### This function will collect the urls from currently saved resources and pass them to Wayback Machine to archive"
   ]
  },
  {
   "cell_type": "code",
   "execution_count": 3,
   "metadata": {},
   "outputs": [],
   "source": [
    "def SourceSaver(start,end):\n",
    "    \n",
    "    ### Base link for navigating to all saved resources\n",
    "    base_url = 'http://admin.china.aiddata.org/resources/'\n",
    "    \n",
    "    while start < end+1:\n",
    "        \n",
    "        ### Combine base URL with specified resource\n",
    "        url = base_url + str(start) \n",
    "        \n",
    "        req = requests.get(url)\n",
    "        \n",
    "        soup = BeautifulSoup(req.content, 'html.parser')\n",
    "        \n",
    "        ### Find all attributes in site with \"a\"\n",
    "        tags = soup.find_all('a')\n",
    "\n",
    "        sites = []\n",
    "\n",
    "        #### Extracting URLs from the attribute href in the <a> tags.\n",
    "        for tag in tags:\n",
    "            link = tag.get('href')\n",
    "            if 'http' in link:\n",
    "                if 'aiddata' not in link:\n",
    "                    sites.append(link)\n",
    "                    \n",
    "        ### Isolate link we want to save            \n",
    "        link = sites[1]\n",
    "        \n",
    "        ### Make sure it's not a Factiva link\n",
    "        if 'factiva' not in link: \n",
    "            \n",
    "            ### Make sure the URL is valid\n",
    "            if validators.url(link)==True:\n",
    "                \n",
    "                ### Enter the url into the Web Archive's save form and submit \n",
    "                try: \n",
    "                        br = mechanize.Browser()\n",
    "                        br.open(\"https://web.archive.org/save\")\n",
    "                        br.select_form('wwmform_save')\n",
    "                        br.form['url'] = link\n",
    "                        br.find_control(\"capture_all\").disabled = True\n",
    "                        br.submit()\n",
    "                except:\n",
    "                    print(\"Something went wrong with resource \" + str(start))\n",
    "                finally:\n",
    "                    print(\"Resource \"+str(start)+\" has been saved to the Wayback Machine\")\n",
    "                    \n",
    "        ### Wait five seconds before making next request to avoid angering the Internet Archive's server\n",
    "        time.sleep(5)\n",
    "        \n",
    "        ### Iterate by one to next resource ID \n",
    "        start += 1 "
   ]
  },
  {
   "cell_type": "markdown",
   "metadata": {},
   "source": [
    "## Specify range of resources to be saved"
   ]
  },
  {
   "cell_type": "code",
   "execution_count": 6,
   "metadata": {},
   "outputs": [
    {
     "name": "stdout",
     "output_type": "stream",
     "text": [
      "Enter starting resource #: 20170\n",
      "Enter ending resource #: 20200\n"
     ]
    }
   ],
   "source": [
    "start=int(input(\"Enter starting resource #: \"))\n",
    "end=int(input(\"Enter ending resource #: \"))"
   ]
  },
  {
   "cell_type": "markdown",
   "metadata": {},
   "source": [
    "## Run the Bot"
   ]
  },
  {
   "cell_type": "code",
   "execution_count": 7,
   "metadata": {},
   "outputs": [
    {
     "name": "stdout",
     "output_type": "stream",
     "text": [
      "Resource 20170 has been saved to the Wayback Machine\n",
      "Resource 20171 has been saved to the Wayback Machine\n",
      "Resource 20176 has been saved to the Wayback Machine\n",
      "Resource 20178 has been saved to the Wayback Machine\n",
      "Resource 20179 has been saved to the Wayback Machine\n",
      "Resource 20180 has been saved to the Wayback Machine\n",
      "Resource 20185 has been saved to the Wayback Machine\n",
      "Resource 20187 has been saved to the Wayback Machine\n",
      "Resource 20188 has been saved to the Wayback Machine\n",
      "Resource 20190 has been saved to the Wayback Machine\n",
      "Resource 20191 has been saved to the Wayback Machine\n",
      "Resource 20192 has been saved to the Wayback Machine\n",
      "Resource 20195 has been saved to the Wayback Machine\n",
      "Resource 20196 has been saved to the Wayback Machine\n",
      "Resource 20197 has been saved to the Wayback Machine\n",
      "Resource 20198 has been saved to the Wayback Machine\n",
      "Resource 20199 has been saved to the Wayback Machine\n",
      "Resource 20200 has been saved to the Wayback Machine\n"
     ]
    }
   ],
   "source": [
    "### Run this code and watch the results! May take a while \n",
    "SourceSaver(start,end)"
   ]
  },
  {
   "cell_type": "code",
   "execution_count": null,
   "metadata": {},
   "outputs": [],
   "source": []
  }
 ],
 "metadata": {
  "kernelspec": {
   "display_name": "Python 3",
   "language": "python",
   "name": "python3"
  },
  "language_info": {
   "codemirror_mode": {
    "name": "ipython",
    "version": 3
   },
   "file_extension": ".py",
   "mimetype": "text/x-python",
   "name": "python",
   "nbconvert_exporter": "python",
   "pygments_lexer": "ipython3",
   "version": "3.6.5"
  }
 },
 "nbformat": 4,
 "nbformat_minor": 2
}
